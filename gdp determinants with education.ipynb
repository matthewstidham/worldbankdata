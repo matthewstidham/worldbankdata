{
 "cells": [
  {
   "cell_type": "code",
   "execution_count": null,
   "metadata": {},
   "outputs": [],
   "source": [
    "import pandas as pd\n",
    "import numpy as np\n",
    "from sklearn.ensemble import RandomForestRegressor\n",
    "import matplotlib.pyplot as plt\n",
    "pd.options.display.max_columns = 999"
   ]
  },
  {
   "cell_type": "code",
   "execution_count": null,
   "metadata": {},
   "outputs": [],
   "source": [
    "df = pd.read_csv('pivoted.csv')\n",
    "british = pd.read_csv('british.csv').dropna()\n",
    "continent = pd.read_csv('continent.csv')\n",
    "education = pd.read_csv('education.csv')"
   ]
  },
  {
   "cell_type": "code",
   "execution_count": null,
   "metadata": {},
   "outputs": [],
   "source": [
    "education = education.replace('..',np.nan)\n",
    "education.head()"
   ]
  },
  {
   "cell_type": "code",
   "execution_count": null,
   "metadata": {},
   "outputs": [],
   "source": [
    "df = pd.merge(df, education, on=['Time Code','Country Code'])"
   ]
  },
  {
   "cell_type": "code",
   "execution_count": null,
   "metadata": {},
   "outputs": [],
   "source": [
    "df = df.replace('NaN',np.nan)\n",
    "df.head()"
   ]
  },
  {
   "cell_type": "code",
   "execution_count": null,
   "metadata": {
    "scrolled": true
   },
   "outputs": [],
   "source": [
    "from collections import OrderedDict\n",
    "dd = OrderedDict(sorted(dict(df.isnull().sum()).items(), key=lambda x: x[1]))\n",
    "print(dd)"
   ]
  },
  {
   "cell_type": "code",
   "execution_count": null,
   "metadata": {},
   "outputs": [],
   "source": [
    "d = dict(df.isnull().sum())\n",
    "targets = [*{key: d[key] for key in d if d[key] < 1000}]"
   ]
  },
  {
   "cell_type": "code",
   "execution_count": null,
   "metadata": {},
   "outputs": [],
   "source": [
    "len(targets)"
   ]
  },
  {
   "cell_type": "code",
   "execution_count": null,
   "metadata": {
    "scrolled": true
   },
   "outputs": [],
   "source": [
    "filtered = df[targets].dropna()"
   ]
  },
  {
   "cell_type": "code",
   "execution_count": null,
   "metadata": {},
   "outputs": [],
   "source": [
    "filtered.shape"
   ]
  },
  {
   "cell_type": "code",
   "execution_count": null,
   "metadata": {
    "scrolled": true
   },
   "outputs": [],
   "source": [
    "dd = OrderedDict(sorted(dict(education.isnull().sum()).items(), key=lambda x: x[1]))\n",
    "print(dd)"
   ]
  },
  {
   "cell_type": "code",
   "execution_count": null,
   "metadata": {},
   "outputs": [],
   "source": [
    "british.head()"
   ]
  },
  {
   "cell_type": "code",
   "execution_count": null,
   "metadata": {},
   "outputs": [],
   "source": [
    "continent.head()"
   ]
  },
  {
   "cell_type": "code",
   "execution_count": null,
   "metadata": {
    "scrolled": true
   },
   "outputs": [],
   "source": [
    "set(british['Current country'])"
   ]
  },
  {
   "cell_type": "code",
   "execution_count": null,
   "metadata": {},
   "outputs": [],
   "source": [
    "crown = df[df['Country Name_x'].isin(british['Current country'])]"
   ]
  },
  {
   "cell_type": "code",
   "execution_count": null,
   "metadata": {},
   "outputs": [],
   "source": [
    "continent.head()"
   ]
  },
  {
   "cell_type": "code",
   "execution_count": null,
   "metadata": {},
   "outputs": [],
   "source": [
    "filtered.head()"
   ]
  },
  {
   "cell_type": "code",
   "execution_count": null,
   "metadata": {
    "scrolled": true
   },
   "outputs": [],
   "source": [
    "filtered.dropna()['Country Code'].value_counts()"
   ]
  },
  {
   "cell_type": "code",
   "execution_count": null,
   "metadata": {
    "scrolled": true
   },
   "outputs": [],
   "source": [
    "filtered.head()"
   ]
  },
  {
   "cell_type": "code",
   "execution_count": null,
   "metadata": {
    "scrolled": true
   },
   "outputs": [],
   "source": [
    "y = filtered['GDP (current US$) [NY.GDP.MKTP.CD]']\n",
    "X = filtered.drop(['GDP (current US$) [NY.GDP.MKTP.CD]','Time_x','Time Code','Country Name_x','Country Code','GNI, Atlas method (current US$) [NY.GNP.ATLS.CD]','GNI, PPP (current international $) [NY.GNP.MKTP.PP.CD]','Country Name_y'], 1)\n",
    "rf = RandomForestRegressor()\n",
    "rf.fit(X, y)\n",
    "names = X.dtypes.index\n",
    "print(\"Features sorted by their score:\")\n",
    "print(sorted(zip(map(lambda x: round(x, 4), rf.feature_importances_), names), reverse=True))"
   ]
  },
  {
   "cell_type": "code",
   "execution_count": null,
   "metadata": {
    "scrolled": true
   },
   "outputs": [],
   "source": [
    "[*filtered.columns]"
   ]
  },
  {
   "cell_type": "code",
   "execution_count": null,
   "metadata": {
    "scrolled": true
   },
   "outputs": [],
   "source": [
    "y = filtered['GDP per capita (current US$) [NY.GDP.PCAP.CD]']\n",
    "X = filtered.drop(['GDP per capita (current US$) [NY.GDP.PCAP.CD]','GDP (current US$) [NY.GDP.MKTP.CD]','Time_x','Time_y','Time Code','Country Name_x','Country Name_y','Country Code','GNI, Atlas method (current US$) [NY.GNP.ATLS.CD]','GNI, PPP (current international $) [NY.GNP.MKTP.PP.CD]','GNI per capita, Atlas method (current US$) [NY.GNP.PCAP.CD]','GNI per capita, PPP (current international $) [NY.GNP.PCAP.PP.CD]'], 1)\n",
    "X = X.astype('float64')\n",
    "rf = RandomForestRegressor()\n",
    "rf.fit(X, y)\n",
    "names = X.dtypes.index\n",
    "print(\"Features sorted by their score:\")\n",
    "print(sorted(zip(map(lambda x: round(x, 4), rf.feature_importances_), names), reverse=True))"
   ]
  },
  {
   "cell_type": "code",
   "execution_count": null,
   "metadata": {},
   "outputs": [],
   "source": [
    "def regression(y, X):\n",
    "    import statsmodels.api as sm\n",
    "    import matplotlib.pyplot as plt\n",
    "    from sklearn.metrics import mean_squared_error\n",
    "    X = X\n",
    "    y = y\n",
    "    model = sm.OLS(y, X)\n",
    "    model = model.fit()\n",
    "    predictions = model.predict(X)\n",
    "\n",
    "    # Plot the model\n",
    "    plt.figure(figsize=(8,6))\n",
    "    plt.scatter(predictions, y, s=30, c='r', marker='+', zorder=10)\n",
    "    plt.xlabel(\"Predicted Values - $\\hat{y}$\")\n",
    "    plt.ylabel(\"Actual Values - $y$\")\n",
    "    plt.show()\n",
    "    print(\"MSE:\", mean_squared_error(y, predictions))\n",
    "    return model.summary()"
   ]
  },
  {
   "cell_type": "code",
   "execution_count": null,
   "metadata": {
    "scrolled": false
   },
   "outputs": [],
   "source": [
    "regression(y,\n",
    "           X)"
   ]
  },
  {
   "cell_type": "code",
   "execution_count": null,
   "metadata": {},
   "outputs": [],
   "source": [
    "x = filtered['Exports of goods and services (% of GDP) [NE.EXP.GNFS.ZS]']\n",
    "plt.scatter(x, y, alpha=0.5)\n",
    "plt.show()"
   ]
  },
  {
   "cell_type": "code",
   "execution_count": null,
   "metadata": {},
   "outputs": [],
   "source": [
    "type(X)"
   ]
  },
  {
   "cell_type": "code",
   "execution_count": null,
   "metadata": {},
   "outputs": [],
   "source": [
    "y"
   ]
  },
  {
   "cell_type": "code",
   "execution_count": null,
   "metadata": {},
   "outputs": [],
   "source": [
    "X.head()"
   ]
  },
  {
   "cell_type": "code",
   "execution_count": null,
   "metadata": {},
   "outputs": [],
   "source": [
    "df['Secondary education, duration (years) [SE.SEC.DURS]']"
   ]
  },
  {
   "cell_type": "markdown",
   "metadata": {},
   "source": [
    "# British dimension"
   ]
  },
  {
   "cell_type": "code",
   "execution_count": null,
   "metadata": {},
   "outputs": [],
   "source": [
    "filtered.head()"
   ]
  },
  {
   "cell_type": "code",
   "execution_count": null,
   "metadata": {
    "scrolled": true
   },
   "outputs": [],
   "source": [
    "set(british['Current country'])"
   ]
  },
  {
   "cell_type": "code",
   "execution_count": null,
   "metadata": {},
   "outputs": [],
   "source": [
    "britain = filtered[filtered['Country Name_x'].isin([*set(british['Current country'])])]\n",
    "britain"
   ]
  },
  {
   "cell_type": "code",
   "execution_count": null,
   "metadata": {},
   "outputs": [],
   "source": [
    "nobritain = filtered[~filtered['Country Name_x'].isin([*set(british['Current country'])])]\n",
    "nobritain"
   ]
  },
  {
   "cell_type": "code",
   "execution_count": null,
   "metadata": {},
   "outputs": [],
   "source": [
    "britain['Colony'] = 1\n",
    "nobritain['Colony'] = 0"
   ]
  },
  {
   "cell_type": "code",
   "execution_count": null,
   "metadata": {},
   "outputs": [],
   "source": [
    "nobritain"
   ]
  },
  {
   "cell_type": "code",
   "execution_count": null,
   "metadata": {},
   "outputs": [],
   "source": [
    "filtered = pd.concat([britain, nobritain])"
   ]
  },
  {
   "cell_type": "code",
   "execution_count": null,
   "metadata": {},
   "outputs": [],
   "source": [
    "filtered"
   ]
  },
  {
   "cell_type": "code",
   "execution_count": null,
   "metadata": {
    "scrolled": true
   },
   "outputs": [],
   "source": [
    "y = filtered['GDP per capita (current US$) [NY.GDP.PCAP.CD]']\n",
    "X = filtered.drop(['GDP per capita (current US$) [NY.GDP.PCAP.CD]','GDP (current US$) [NY.GDP.MKTP.CD]','Time_x','Time_y','Time Code','Country Name_x','Country Name_y','Country Code','GNI, Atlas method (current US$) [NY.GNP.ATLS.CD]','GNI, PPP (current international $) [NY.GNP.MKTP.PP.CD]','GNI per capita, Atlas method (current US$) [NY.GNP.PCAP.CD]','GNI per capita, PPP (current international $) [NY.GNP.PCAP.PP.CD]'], 1)\n",
    "X = X.astype('float64')\n",
    "rf = RandomForestRegressor()\n",
    "rf.fit(X, y)\n",
    "names = X.dtypes.index\n",
    "print(\"Features sorted by their score:\")\n",
    "print(sorted(zip(map(lambda x: round(x, 4), rf.feature_importances_), names), reverse=True))"
   ]
  },
  {
   "cell_type": "code",
   "execution_count": null,
   "metadata": {
    "scrolled": false
   },
   "outputs": [],
   "source": [
    "regression(y,\n",
    "           X)"
   ]
  },
  {
   "cell_type": "code",
   "execution_count": null,
   "metadata": {
    "scrolled": true
   },
   "outputs": [],
   "source": [
    "y = filtered['GDP growth (annual %) [NY.GDP.MKTP.KD.ZG]']\n",
    "X = filtered.drop(['GDP growth (annual %) [NY.GDP.MKTP.KD.ZG]','Time_x','Time_y','Time Code','Country Name_x','Country Name_y','Country Code','GNI, PPP (current international $) [NY.GNP.MKTP.PP.CD]','GNI per capita, Atlas method (current US$) [NY.GNP.PCAP.CD]','GNI per capita, PPP (current international $) [NY.GNP.PCAP.PP.CD]'], 1)\n",
    "X = X.astype('float64')\n",
    "rf = RandomForestRegressor()\n",
    "rf.fit(X, y)\n",
    "names = X.dtypes.index\n",
    "print(\"Features sorted by their score:\")\n",
    "print(sorted(zip(map(lambda x: round(x, 4), rf.feature_importances_), names), reverse=True))"
   ]
  },
  {
   "cell_type": "code",
   "execution_count": null,
   "metadata": {
    "scrolled": false
   },
   "outputs": [],
   "source": [
    "regression(y,\n",
    "           X)"
   ]
  },
  {
   "cell_type": "markdown",
   "metadata": {},
   "source": [
    "# Poor"
   ]
  },
  {
   "cell_type": "code",
   "execution_count": null,
   "metadata": {},
   "outputs": [],
   "source": [
    "poor = filtered[filtered['GDP per capita (current US$) [NY.GDP.PCAP.CD]'] < 20000]"
   ]
  },
  {
   "cell_type": "code",
   "execution_count": null,
   "metadata": {},
   "outputs": [],
   "source": [
    "y = poor['GDP growth (annual %) [NY.GDP.MKTP.KD.ZG]']\n",
    "X = poor.drop(['GDP growth (annual %) [NY.GDP.MKTP.KD.ZG]','Time_x','Time_y','Time Code','Country Name_x','Country Name_y','Country Code','GNI, PPP (current international $) [NY.GNP.MKTP.PP.CD]','GNI per capita, Atlas method (current US$) [NY.GNP.PCAP.CD]','GNI per capita, PPP (current international $) [NY.GNP.PCAP.PP.CD]'], 1)\n",
    "X = X.astype('float64')\n",
    "rf = RandomForestRegressor()\n",
    "rf.fit(X, y)\n",
    "names = X.dtypes.index\n",
    "print(\"Features sorted by their score:\")\n",
    "print(sorted(zip(map(lambda x: round(x, 4), rf.feature_importances_), names), reverse=True))"
   ]
  },
  {
   "cell_type": "code",
   "execution_count": null,
   "metadata": {
    "scrolled": true
   },
   "outputs": [],
   "source": [
    "regression(y,X)"
   ]
  },
  {
   "cell_type": "code",
   "execution_count": null,
   "metadata": {
    "scrolled": true
   },
   "outputs": [],
   "source": [
    "y = poor['GDP per capita (current US$) [NY.GDP.PCAP.CD]']\n",
    "X = poor.drop(['GDP per capita (current US$) [NY.GDP.PCAP.CD]','GDP (current US$) [NY.GDP.MKTP.CD]','Time_x','Time_y','Time Code','Country Name_x','Country Name_y','Country Code','GNI, Atlas method (current US$) [NY.GNP.ATLS.CD]','GNI, PPP (current international $) [NY.GNP.MKTP.PP.CD]','GNI per capita, Atlas method (current US$) [NY.GNP.PCAP.CD]','GNI per capita, PPP (current international $) [NY.GNP.PCAP.PP.CD]'], 1)\n",
    "X = X.astype('float64')\n",
    "rf = RandomForestRegressor()\n",
    "rf.fit(X, y)\n",
    "names = X.dtypes.index\n",
    "print(\"Features sorted by their score:\")\n",
    "print(sorted(zip(map(lambda x: round(x, 4), rf.feature_importances_), names), reverse=True))"
   ]
  },
  {
   "cell_type": "code",
   "execution_count": null,
   "metadata": {
    "scrolled": true
   },
   "outputs": [],
   "source": [
    "regression(y,X)"
   ]
  },
  {
   "cell_type": "markdown",
   "metadata": {},
   "source": [
    "# Rich"
   ]
  },
  {
   "cell_type": "code",
   "execution_count": 91,
   "metadata": {},
   "outputs": [],
   "source": [
    "poor = filtered[filtered['GDP per capita (current US$) [NY.GDP.PCAP.CD]'] > 20000]"
   ]
  },
  {
   "cell_type": "code",
   "execution_count": 92,
   "metadata": {},
   "outputs": [
    {
     "name": "stdout",
     "output_type": "stream",
     "text": [
      "Features sorted by their score:\n",
      "[(0.15840000000000001, 'Gross capital formation (% of GDP) [NE.GDI.TOTL.ZS]'), (0.081100000000000005, 'Population growth (annual %) [SP.POP.GROW]'), (0.077700000000000005, 'Inflation, GDP deflator (annual %) [NY.GDP.DEFL.KD.ZG]'), (0.074700000000000003, 'Inflation, consumer prices (annual %) [FP.CPI.TOTL.ZG]'), (0.070499999999999993, 'Forest area (sq. km) [AG.LND.FRST.K2]'), (0.0402, 'Industry (including construction), value added (% of GDP) [NV.IND.TOTL.ZS]'), (0.0402, 'Agriculture, forestry, and fishing, value added (% of GDP) [NV.AGR.TOTL.ZS]'), (0.0356, 'Life expectancy at birth, total (years) [SP.DYN.LE00.IN]'), (0.0332, 'CO2 emissions (metric tons per capita) [EN.ATM.CO2E.PC]'), (0.032800000000000003, 'Mortality rate, under-5 (per 1,000 live births) [SH.DYN.MORT]'), (0.031600000000000003, 'Net barter terms of trade index (2000 = 100) [TT.PRI.MRCH.XD.WD]'), (0.029499999999999998, 'Immunization, measles (% of children ages 12-23 months) [SH.IMM.MEAS]'), (0.029100000000000001, 'Imports of goods and services (% of GDP) [NE.IMP.GNFS.ZS]'), (0.026200000000000001, 'Foreign direct investment, net inflows (BoP, current US$) [BX.KLT.DINV.CD.WD]'), (0.025399999999999999, 'Fertility rate, total (births per woman) [SP.DYN.TFRT.IN]'), (0.023300000000000001, 'Adolescent fertility rate (births per 1,000 women ages 15-19) [SP.ADO.TFRT]'), (0.0218, 'Merchandise trade (% of GDP) [TG.VAL.TOTL.GD.ZS]'), (0.0206, 'Adjusted savings: education expenditure (% of GNI) [NY.ADJ.AEDU.GN.ZS]'), (0.018499999999999999, 'Exports of goods and services (% of GDP) [NE.EXP.GNFS.ZS]'), (0.0183, 'Foreign direct investment, net (BoP, current US$) [BN.KLT.DINV.CD]'), (0.016299999999999999, 'GDP per capita (current US$) [NY.GDP.PCAP.CD]'), (0.0161, 'Mobile cellular subscriptions (per 100 people) [IT.CEL.SETS.P2]'), (0.0143, 'GNI, Atlas method (current US$) [NY.GNP.ATLS.CD]'), (0.0134, 'Surface area (sq. km) [AG.SRF.TOTL.K2]'), (0.010200000000000001, 'Personal remittances, paid (current US$) [BM.TRF.PWKR.CD.DT]'), (0.0092999999999999992, 'Adjusted savings: education expenditure (current US$) [NY.ADJ.AEDU.CD]'), (0.0091000000000000004, 'Population, total [SP.POP.TOTL]'), (0.0082000000000000007, 'GDP (current US$) [NY.GDP.MKTP.CD]'), (0.0041000000000000003, 'Primary education, duration (years) [SE.PRM.DURS]'), (0.0040000000000000001, 'Oil rents (% of GDP) [NY.GDP.PETR.RT.ZS]'), (0.0027000000000000001, 'Secondary education, duration (years) [SE.SEC.DURS]'), (0.0025999999999999999, 'Preprimary education, duration (years) [SE.PRE.DURS]'), (0.00069999999999999999, 'Compulsory education, duration (years) [SE.COM.DURS]'), (0.0001, 'Colony')]\n"
     ]
    }
   ],
   "source": [
    "y = poor['GDP growth (annual %) [NY.GDP.MKTP.KD.ZG]']\n",
    "X = poor.drop(['GDP growth (annual %) [NY.GDP.MKTP.KD.ZG]','Time_x','Time_y','Time Code','Country Name_x','Country Name_y','Country Code','GNI, PPP (current international $) [NY.GNP.MKTP.PP.CD]','GNI per capita, Atlas method (current US$) [NY.GNP.PCAP.CD]','GNI per capita, PPP (current international $) [NY.GNP.PCAP.PP.CD]'], 1)\n",
    "X = X.astype('float64')\n",
    "rf = RandomForestRegressor()\n",
    "rf.fit(X, y)\n",
    "names = X.dtypes.index\n",
    "print(\"Features sorted by their score:\")\n",
    "print(sorted(zip(map(lambda x: round(x, 4), rf.feature_importances_), names), reverse=True))"
   ]
  },
  {
   "cell_type": "code",
   "execution_count": 93,
   "metadata": {},
   "outputs": [
    {
     "data": {
      "image/png": "[encoded data removed]",
      "text/plain": [
       "<Figure size 576x432 with 1 Axes>"
      ]
     },
     "metadata": {},
     "output_type": "display_data"
    },
    {
     "name": "stdout",
     "output_type": "stream",
     "text": [
      "MSE: 5.05375293151\n"
     ]
    },
    {
     "data": {
      "text/html": [
       "<table class=\"simpletable\">\n",
       "<caption>OLS Regression Results</caption>\n",
       "<tr>\n",
       "  <th>Dep. Variable:</th>    <td>GDP growth (annual %) [NY.GDP.MKTP.KD.ZG]</td> <th>  R-squared:         </th> <td>   0.382</td>\n",
       "</tr>\n",
       "<tr>\n",
       "  <th>Model:</th>                               <td>OLS</td>                    <th>  Adj. R-squared:    </th> <td>   0.326</td>\n",
       "</tr>\n",
       "<tr>\n",
       "  <th>Method:</th>                         <td>Least Squares</td>               <th>  F-statistic:       </th> <td>   6.753</td>\n",
       "</tr>\n",
       "<tr>\n",
       "  <th>Date:</th>                         <td>Sat, 08 Sep 2018</td>              <th>  Prob (F-statistic):</th> <td>2.95e-22</td>\n",
       "</tr>\n",
       "<tr>\n",
       "  <th>Time:</th>                             <td>11:21:32</td>                  <th>  Log-Likelihood:    </th> <td> -878.23</td>\n",
       "</tr>\n",
       "<tr>\n",
       "  <th>No. Observations:</th>                  <td>   394</td>                   <th>  AIC:               </th> <td>   1824.</td>\n",
       "</tr>\n",
       "<tr>\n",
       "  <th>Df Residuals:</th>                      <td>   360</td>                   <th>  BIC:               </th> <td>   1960.</td>\n",
       "</tr>\n",
       "<tr>\n",
       "  <th>Df Model:</th>                          <td>    33</td>                   <th>                     </th>     <td> </td>   \n",
       "</tr>\n",
       "<tr>\n",
       "  <th>Covariance Type:</th>                  <td>nonrobust</td>                 <th>                     </th>     <td> </td>   \n",
       "</tr>\n",
       "</table>\n",
       "<table class=\"simpletable\">\n",
       "<tr>\n",
       "                                        <td></td>                                           <th>coef</th>     <th>std err</th>      <th>t</th>      <th>P>|t|</th>  <th>[0.025</th>    <th>0.975]</th>  \n",
       "</tr>\n",
       "<tr>\n",
       "  <th>Population, total [SP.POP.TOTL]</th>                                               <td>-7.035e-09</td> <td> 1.53e-08</td> <td>   -0.460</td> <td> 0.646</td> <td>-3.71e-08</td> <td> 2.31e-08</td>\n",
       "</tr>\n",
       "<tr>\n",
       "  <th>Population growth (annual %) [SP.POP.GROW]</th>                                    <td>    0.1305</td> <td>    0.216</td> <td>    0.604</td> <td> 0.546</td> <td>   -0.294</td> <td>    0.555</td>\n",
       "</tr>\n",
       "<tr>\n",
       "  <th>Surface area (sq. km) [AG.SRF.TOTL.K2]</th>                                        <td>-4.942e-08</td> <td>  2.4e-07</td> <td>   -0.206</td> <td> 0.837</td> <td>-5.22e-07</td> <td> 4.23e-07</td>\n",
       "</tr>\n",
       "<tr>\n",
       "  <th>GNI, Atlas method (current US$) [NY.GNP.ATLS.CD]</th>                              <td>-2.378e-13</td> <td> 1.14e-12</td> <td>   -0.209</td> <td> 0.835</td> <td>-2.48e-12</td> <td>    2e-12</td>\n",
       "</tr>\n",
       "<tr>\n",
       "  <th>Life expectancy at birth, total (years) [SP.DYN.LE00.IN]</th>                      <td>   -0.1329</td> <td>    0.065</td> <td>   -2.037</td> <td> 0.042</td> <td>   -0.261</td> <td>   -0.005</td>\n",
       "</tr>\n",
       "<tr>\n",
       "  <th>Fertility rate, total (births per woman) [SP.DYN.TFRT.IN]</th>                     <td>    2.1096</td> <td>    0.556</td> <td>    3.791</td> <td> 0.000</td> <td>    1.015</td> <td>    3.204</td>\n",
       "</tr>\n",
       "<tr>\n",
       "  <th>Adolescent fertility rate (births per 1,000 women ages 15-19) [SP.ADO.TFRT]</th>   <td>    0.0124</td> <td>    0.037</td> <td>    0.335</td> <td> 0.738</td> <td>   -0.060</td> <td>    0.085</td>\n",
       "</tr>\n",
       "<tr>\n",
       "  <th>Mortality rate, under-5 (per 1,000 live births) [SH.DYN.MORT]</th>                 <td>   -0.4463</td> <td>    0.132</td> <td>   -3.373</td> <td> 0.001</td> <td>   -0.707</td> <td>   -0.186</td>\n",
       "</tr>\n",
       "<tr>\n",
       "  <th>Immunization, measles (% of children ages 12-23 months) [SH.IMM.MEAS]</th>         <td>   -0.0027</td> <td>    0.030</td> <td>   -0.091</td> <td> 0.927</td> <td>   -0.061</td> <td>    0.056</td>\n",
       "</tr>\n",
       "<tr>\n",
       "  <th>Forest area (sq. km) [AG.LND.FRST.K2]</th>                                         <td>-1.043e-07</td> <td> 7.77e-07</td> <td>   -0.134</td> <td> 0.893</td> <td>-1.63e-06</td> <td> 1.42e-06</td>\n",
       "</tr>\n",
       "<tr>\n",
       "  <th>CO2 emissions (metric tons per capita) [EN.ATM.CO2E.PC]</th>                       <td>   -0.0359</td> <td>    0.061</td> <td>   -0.586</td> <td> 0.558</td> <td>   -0.156</td> <td>    0.085</td>\n",
       "</tr>\n",
       "<tr>\n",
       "  <th>GDP (current US$) [NY.GDP.MKTP.CD]</th>                                            <td> 3.775e-13</td> <td>  1.4e-12</td> <td>    0.270</td> <td> 0.787</td> <td>-2.37e-12</td> <td> 3.13e-12</td>\n",
       "</tr>\n",
       "<tr>\n",
       "  <th>Inflation, GDP deflator (annual %) [NY.GDP.DEFL.KD.ZG]</th>                        <td>    0.1164</td> <td>    0.050</td> <td>    2.318</td> <td> 0.021</td> <td>    0.018</td> <td>    0.215</td>\n",
       "</tr>\n",
       "<tr>\n",
       "  <th>Agriculture, forestry, and fishing, value added (% of GDP) [NV.AGR.TOTL.ZS]</th>   <td>    0.0365</td> <td>    0.128</td> <td>    0.285</td> <td> 0.776</td> <td>   -0.215</td> <td>    0.288</td>\n",
       "</tr>\n",
       "<tr>\n",
       "  <th>Industry (including construction), value added (% of GDP) [NV.IND.TOTL.ZS]</th>    <td>   -0.0281</td> <td>    0.047</td> <td>   -0.602</td> <td> 0.547</td> <td>   -0.120</td> <td>    0.064</td>\n",
       "</tr>\n",
       "<tr>\n",
       "  <th>Exports of goods and services (% of GDP) [NE.EXP.GNFS.ZS]</th>                     <td>    0.1034</td> <td>    0.047</td> <td>    2.200</td> <td> 0.028</td> <td>    0.011</td> <td>    0.196</td>\n",
       "</tr>\n",
       "<tr>\n",
       "  <th>Imports of goods and services (% of GDP) [NE.IMP.GNFS.ZS]</th>                     <td>   -0.0816</td> <td>    0.054</td> <td>   -1.506</td> <td> 0.133</td> <td>   -0.188</td> <td>    0.025</td>\n",
       "</tr>\n",
       "<tr>\n",
       "  <th>Gross capital formation (% of GDP) [NE.GDI.TOTL.ZS]</th>                           <td>    0.4061</td> <td>    0.067</td> <td>    6.066</td> <td> 0.000</td> <td>    0.274</td> <td>    0.538</td>\n",
       "</tr>\n",
       "<tr>\n",
       "  <th>Mobile cellular subscriptions (per 100 people) [IT.CEL.SETS.P2]</th>               <td>   -0.0197</td> <td>    0.007</td> <td>   -2.654</td> <td> 0.008</td> <td>   -0.034</td> <td>   -0.005</td>\n",
       "</tr>\n",
       "<tr>\n",
       "  <th>Merchandise trade (% of GDP) [TG.VAL.TOTL.GD.ZS]</th>                              <td>   -0.0084</td> <td>    0.007</td> <td>   -1.218</td> <td> 0.224</td> <td>   -0.022</td> <td>    0.005</td>\n",
       "</tr>\n",
       "<tr>\n",
       "  <th>Net barter terms of trade index (2000 = 100) [TT.PRI.MRCH.XD.WD]</th>              <td>    0.0010</td> <td>    0.003</td> <td>    0.340</td> <td> 0.734</td> <td>   -0.005</td> <td>    0.007</td>\n",
       "</tr>\n",
       "<tr>\n",
       "  <th>Personal remittances, paid (current US$) [BM.TRF.PWKR.CD.DT]</th>                  <td>-1.711e-11</td> <td> 4.33e-11</td> <td>   -0.395</td> <td> 0.693</td> <td>-1.02e-10</td> <td> 6.81e-11</td>\n",
       "</tr>\n",
       "<tr>\n",
       "  <th>Foreign direct investment, net inflows (BoP, current US$) [BX.KLT.DINV.CD.WD]</th> <td> 4.551e-12</td> <td>  2.3e-12</td> <td>    1.981</td> <td> 0.048</td> <td> 3.21e-14</td> <td> 9.07e-12</td>\n",
       "</tr>\n",
       "<tr>\n",
       "  <th>GDP per capita (current US$) [NY.GDP.PCAP.CD]</th>                                 <td>-2.973e-05</td> <td> 1.61e-05</td> <td>   -1.846</td> <td> 0.066</td> <td>-6.14e-05</td> <td> 1.94e-06</td>\n",
       "</tr>\n",
       "<tr>\n",
       "  <th>Foreign direct investment, net (BoP, current US$) [BN.KLT.DINV.CD]</th>            <td> 3.038e-12</td> <td> 3.54e-12</td> <td>    0.859</td> <td> 0.391</td> <td>-3.92e-12</td> <td> 9.99e-12</td>\n",
       "</tr>\n",
       "<tr>\n",
       "  <th>Inflation, consumer prices (annual %) [FP.CPI.TOTL.ZG]</th>                        <td>   -0.1651</td> <td>    0.102</td> <td>   -1.621</td> <td> 0.106</td> <td>   -0.365</td> <td>    0.035</td>\n",
       "</tr>\n",
       "<tr>\n",
       "  <th>Oil rents (% of GDP) [NY.GDP.PETR.RT.ZS]</th>                                      <td>    0.0802</td> <td>    0.044</td> <td>    1.834</td> <td> 0.067</td> <td>   -0.006</td> <td>    0.166</td>\n",
       "</tr>\n",
       "<tr>\n",
       "  <th>Adjusted savings: education expenditure (% of GNI) [NY.ADJ.AEDU.GN.ZS]</th>        <td>   -0.1452</td> <td>    0.212</td> <td>   -0.686</td> <td> 0.493</td> <td>   -0.561</td> <td>    0.271</td>\n",
       "</tr>\n",
       "<tr>\n",
       "  <th>Adjusted savings: education expenditure (current US$) [NY.ADJ.AEDU.CD]</th>        <td> 2.351e-12</td> <td> 1.23e-11</td> <td>    0.192</td> <td> 0.848</td> <td>-2.18e-11</td> <td> 2.65e-11</td>\n",
       "</tr>\n",
       "<tr>\n",
       "  <th>Compulsory education, duration (years) [SE.COM.DURS]</th>                          <td>    0.0599</td> <td>    0.133</td> <td>    0.451</td> <td> 0.652</td> <td>   -0.201</td> <td>    0.321</td>\n",
       "</tr>\n",
       "<tr>\n",
       "  <th>Preprimary education, duration (years) [SE.PRE.DURS]</th>                          <td>    0.1412</td> <td>    0.291</td> <td>    0.485</td> <td> 0.628</td> <td>   -0.432</td> <td>    0.714</td>\n",
       "</tr>\n",
       "<tr>\n",
       "  <th>Primary education, duration (years) [SE.PRM.DURS]</th>                             <td>    0.1001</td> <td>    0.409</td> <td>    0.244</td> <td> 0.807</td> <td>   -0.705</td> <td>    0.905</td>\n",
       "</tr>\n",
       "<tr>\n",
       "  <th>Secondary education, duration (years) [SE.SEC.DURS]</th>                           <td>    0.5848</td> <td>    0.350</td> <td>    1.673</td> <td> 0.095</td> <td>   -0.103</td> <td>    1.272</td>\n",
       "</tr>\n",
       "<tr>\n",
       "  <th>Colony</th>                                                                        <td>    1.4897</td> <td>    0.560</td> <td>    2.659</td> <td> 0.008</td> <td>    0.388</td> <td>    2.591</td>\n",
       "</tr>\n",
       "</table>\n",
       "<table class=\"simpletable\">\n",
       "<tr>\n",
       "  <th>Omnibus:</th>       <td>55.212</td> <th>  Durbin-Watson:     </th> <td>   1.289</td>\n",
       "</tr>\n",
       "<tr>\n",
       "  <th>Prob(Omnibus):</th> <td> 0.000</td> <th>  Jarque-Bera (JB):  </th> <td> 106.257</td>\n",
       "</tr>\n",
       "<tr>\n",
       "  <th>Skew:</th>          <td>-0.786</td> <th>  Prob(JB):          </th> <td>8.45e-24</td>\n",
       "</tr>\n",
       "<tr>\n",
       "  <th>Kurtosis:</th>      <td> 5.001</td> <th>  Cond. No.          </th> <td>2.50e+13</td>\n",
       "</tr>\n",
       "</table>"
      ],
      "text/plain": [
       "<class 'statsmodels.iolib.summary.Summary'>\n",
       "\"\"\"\n",
       "                                        OLS Regression Results                                       \n",
       "=====================================================================================================\n",
       "Dep. Variable:     GDP growth (annual %) [NY.GDP.MKTP.KD.ZG]   R-squared:                       0.382\n",
       "Model:                                                   OLS   Adj. R-squared:                  0.326\n",
       "Method:                                        Least Squares   F-statistic:                     6.753\n",
       "Date:                                       Sat, 08 Sep 2018   Prob (F-statistic):           2.95e-22\n",
       "Time:                                               11:21:32   Log-Likelihood:                -878.23\n",
       "No. Observations:                                        394   AIC:                             1824.\n",
       "Df Residuals:                                            360   BIC:                             1960.\n",
       "Df Model:                                                 33                                         \n",
       "Covariance Type:                                   nonrobust                                         \n",
       "=================================================================================================================================================\n",
       "                                                                                    coef    std err          t      P>|t|      [0.025      0.975]\n",
       "-------------------------------------------------------------------------------------------------------------------------------------------------\n",
       "Population, total [SP.POP.TOTL]                                               -7.035e-09   1.53e-08     -0.460      0.646   -3.71e-08    2.31e-08\n",
       "Population growth (annual %) [SP.POP.GROW]                                        0.1305      0.216      0.604      0.546      -0.294       0.555\n",
       "Surface area (sq. km) [AG.SRF.TOTL.K2]                                        -4.942e-08    2.4e-07     -0.206      0.837   -5.22e-07    4.23e-07\n",
       "GNI, Atlas method (current US$) [NY.GNP.ATLS.CD]                              -2.378e-13   1.14e-12     -0.209      0.835   -2.48e-12       2e-12\n",
       "Life expectancy at birth, total (years) [SP.DYN.LE00.IN]                         -0.1329      0.065     -2.037      0.042      -0.261      -0.005\n",
       "Fertility rate, total (births per woman) [SP.DYN.TFRT.IN]                         2.1096      0.556      3.791      0.000       1.015       3.204\n",
       "Adolescent fertility rate (births per 1,000 women ages 15-19) [SP.ADO.TFRT]       0.0124      0.037      0.335      0.738      -0.060       0.085\n",
       "Mortality rate, under-5 (per 1,000 live births) [SH.DYN.MORT]                    -0.4463      0.132     -3.373      0.001      -0.707      -0.186\n",
       "Immunization, measles (% of children ages 12-23 months) [SH.IMM.MEAS]            -0.0027      0.030     -0.091      0.927      -0.061       0.056\n",
       "Forest area (sq. km) [AG.LND.FRST.K2]                                         -1.043e-07   7.77e-07     -0.134      0.893   -1.63e-06    1.42e-06\n",
       "CO2 emissions (metric tons per capita) [EN.ATM.CO2E.PC]                          -0.0359      0.061     -0.586      0.558      -0.156       0.085\n",
       "GDP (current US$) [NY.GDP.MKTP.CD]                                             3.775e-13    1.4e-12      0.270      0.787   -2.37e-12    3.13e-12\n",
       "Inflation, GDP deflator (annual %) [NY.GDP.DEFL.KD.ZG]                            0.1164      0.050      2.318      0.021       0.018       0.215\n",
       "Agriculture, forestry, and fishing, value added (% of GDP) [NV.AGR.TOTL.ZS]       0.0365      0.128      0.285      0.776      -0.215       0.288\n",
       "Industry (including construction), value added (% of GDP) [NV.IND.TOTL.ZS]       -0.0281      0.047     -0.602      0.547      -0.120       0.064\n",
       "Exports of goods and services (% of GDP) [NE.EXP.GNFS.ZS]                         0.1034      0.047      2.200      0.028       0.011       0.196\n",
       "Imports of goods and services (% of GDP) [NE.IMP.GNFS.ZS]                        -0.0816      0.054     -1.506      0.133      -0.188       0.025\n",
       "Gross capital formation (% of GDP) [NE.GDI.TOTL.ZS]                               0.4061      0.067      6.066      0.000       0.274       0.538\n",
       "Mobile cellular subscriptions (per 100 people) [IT.CEL.SETS.P2]                  -0.0197      0.007     -2.654      0.008      -0.034      -0.005\n",
       "Merchandise trade (% of GDP) [TG.VAL.TOTL.GD.ZS]                                 -0.0084      0.007     -1.218      0.224      -0.022       0.005\n",
       "Net barter terms of trade index (2000 = 100) [TT.PRI.MRCH.XD.WD]                  0.0010      0.003      0.340      0.734      -0.005       0.007\n",
       "Personal remittances, paid (current US$) [BM.TRF.PWKR.CD.DT]                  -1.711e-11   4.33e-11     -0.395      0.693   -1.02e-10    6.81e-11\n",
       "Foreign direct investment, net inflows (BoP, current US$) [BX.KLT.DINV.CD.WD]  4.551e-12    2.3e-12      1.981      0.048    3.21e-14    9.07e-12\n",
       "GDP per capita (current US$) [NY.GDP.PCAP.CD]                                 -2.973e-05   1.61e-05     -1.846      0.066   -6.14e-05    1.94e-06\n",
       "Foreign direct investment, net (BoP, current US$) [BN.KLT.DINV.CD]             3.038e-12   3.54e-12      0.859      0.391   -3.92e-12    9.99e-12\n",
       "Inflation, consumer prices (annual %) [FP.CPI.TOTL.ZG]                           -0.1651      0.102     -1.621      0.106      -0.365       0.035\n",
       "Oil rents (% of GDP) [NY.GDP.PETR.RT.ZS]                                          0.0802      0.044      1.834      0.067      -0.006       0.166\n",
       "Adjusted savings: education expenditure (% of GNI) [NY.ADJ.AEDU.GN.ZS]           -0.1452      0.212     -0.686      0.493      -0.561       0.271\n",
       "Adjusted savings: education expenditure (current US$) [NY.ADJ.AEDU.CD]         2.351e-12   1.23e-11      0.192      0.848   -2.18e-11    2.65e-11\n",
       "Compulsory education, duration (years) [SE.COM.DURS]                              0.0599      0.133      0.451      0.652      -0.201       0.321\n",
       "Preprimary education, duration (years) [SE.PRE.DURS]                              0.1412      0.291      0.485      0.628      -0.432       0.714\n",
       "Primary education, duration (years) [SE.PRM.DURS]                                 0.1001      0.409      0.244      0.807      -0.705       0.905\n",
       "Secondary education, duration (years) [SE.SEC.DURS]                               0.5848      0.350      1.673      0.095      -0.103       1.272\n",
       "Colony                                                                            1.4897      0.560      2.659      0.008       0.388       2.591\n",
       "==============================================================================\n",
       "Omnibus:                       55.212   Durbin-Watson:                   1.289\n",
       "Prob(Omnibus):                  0.000   Jarque-Bera (JB):              106.257\n",
       "Skew:                          -0.786   Prob(JB):                     8.45e-24\n",
       "Kurtosis:                       5.001   Cond. No.                     2.50e+13\n",
       "==============================================================================\n",
       "\n",
       "Warnings:\n",
       "[1] Standard Errors assume that the covariance matrix of the errors is correctly specified.\n",
       "[2] The condition number is large, 2.5e+13. This might indicate that there are\n",
       "strong multicollinearity or other numerical problems.\n",
       "\"\"\""
      ]
     },
     "execution_count": 93,
     "metadata": {},
     "output_type": "execute_result"
    }
   ],
   "source": [
    "regression(y,X)"
   ]
  },
  {
   "cell_type": "code",
   "execution_count": 94,
   "metadata": {},
   "outputs": [
    {
     "name": "stdout",
     "output_type": "stream",
     "text": [
      "Features sorted by their score:\n",
      "[(0.26079999999999998, 'Exports of goods and services (% of GDP) [NE.EXP.GNFS.ZS]'), (0.1026, 'Personal remittances, paid (current US$) [BM.TRF.PWKR.CD.DT]'), (0.097799999999999998, 'Population, total [SP.POP.TOTL]'), (0.073099999999999998, 'Agriculture, forestry, and fishing, value added (% of GDP) [NV.AGR.TOTL.ZS]'), (0.0683, 'Adjusted savings: education expenditure (current US$) [NY.ADJ.AEDU.CD]'), (0.052600000000000001, 'Primary education, duration (years) [SE.PRM.DURS]'), (0.035000000000000003, 'Fertility rate, total (births per woman) [SP.DYN.TFRT.IN]'), (0.032500000000000001, 'CO2 emissions (metric tons per capita) [EN.ATM.CO2E.PC]'), (0.025700000000000001, 'Gross capital formation (% of GDP) [NE.GDI.TOTL.ZS]'), (0.025100000000000001, 'Mortality rate, under-5 (per 1,000 live births) [SH.DYN.MORT]'), (0.020799999999999999, 'Forest area (sq. km) [AG.LND.FRST.K2]'), (0.020199999999999999, 'Adjusted savings: education expenditure (% of GNI) [NY.ADJ.AEDU.GN.ZS]'), (0.019900000000000001, 'Imports of goods and services (% of GDP) [NE.IMP.GNFS.ZS]'), (0.018499999999999999, 'Life expectancy at birth, total (years) [SP.DYN.LE00.IN]'), (0.016199999999999999, 'Population growth (annual %) [SP.POP.GROW]'), (0.015800000000000002, 'Mobile cellular subscriptions (per 100 people) [IT.CEL.SETS.P2]'), (0.015699999999999999, 'Compulsory education, duration (years) [SE.COM.DURS]'), (0.013599999999999999, 'Industry (including construction), value added (% of GDP) [NV.IND.TOTL.ZS]'), (0.013299999999999999, 'Oil rents (% of GDP) [NY.GDP.PETR.RT.ZS]'), (0.012500000000000001, 'Foreign direct investment, net inflows (BoP, current US$) [BX.KLT.DINV.CD.WD]'), (0.0115, 'Merchandise trade (% of GDP) [TG.VAL.TOTL.GD.ZS]'), (0.0109, 'Adolescent fertility rate (births per 1,000 women ages 15-19) [SP.ADO.TFRT]'), (0.0067000000000000002, 'Foreign direct investment, net (BoP, current US$) [BN.KLT.DINV.CD]'), (0.0061000000000000004, 'Net barter terms of trade index (2000 = 100) [TT.PRI.MRCH.XD.WD]'), (0.0053, 'Immunization, measles (% of children ages 12-23 months) [SH.IMM.MEAS]'), (0.0050000000000000001, 'Surface area (sq. km) [AG.SRF.TOTL.K2]'), (0.0047999999999999996, 'Preprimary education, duration (years) [SE.PRE.DURS]'), (0.0037000000000000002, 'Inflation, GDP deflator (annual %) [NY.GDP.DEFL.KD.ZG]'), (0.0035000000000000001, 'GDP growth (annual %) [NY.GDP.MKTP.KD.ZG]'), (0.0016000000000000001, 'Inflation, consumer prices (annual %) [FP.CPI.TOTL.ZG]'), (0.00089999999999999998, 'Secondary education, duration (years) [SE.SEC.DURS]'), (0.0, 'Colony')]\n"
     ]
    }
   ],
   "source": [
    "y = poor['GDP per capita (current US$) [NY.GDP.PCAP.CD]']\n",
    "X = poor.drop(['GDP per capita (current US$) [NY.GDP.PCAP.CD]','GDP (current US$) [NY.GDP.MKTP.CD]','Time_x','Time_y','Time Code','Country Name_x','Country Name_y','Country Code','GNI, Atlas method (current US$) [NY.GNP.ATLS.CD]','GNI, PPP (current international $) [NY.GNP.MKTP.PP.CD]','GNI per capita, Atlas method (current US$) [NY.GNP.PCAP.CD]','GNI per capita, PPP (current international $) [NY.GNP.PCAP.PP.CD]'], 1)\n",
    "X = X.astype('float64')\n",
    "rf = RandomForestRegressor()\n",
    "rf.fit(X, y)\n",
    "names = X.dtypes.index\n",
    "print(\"Features sorted by their score:\")\n",
    "print(sorted(zip(map(lambda x: round(x, 4), rf.feature_importances_), names), reverse=True))"
   ]
  },
  {
   "cell_type": "code",
   "execution_count": 95,
   "metadata": {
    "scrolled": false
   },
   "outputs": [
    {
     "data": {
      "image/png": "[encoded data removed]",
      "text/plain": [
       "<Figure size 576x432 with 1 Axes>"
      ]
     },
     "metadata": {},
     "output_type": "display_data"
    },
    {
     "name": "stdout",
     "output_type": "stream",
     "text": [
      "MSE: 61161891.2488\n"
     ]
    },
    {
     "data": {
      "text/html": [
       "<table class=\"simpletable\">\n",
       "<caption>OLS Regression Results</caption>\n",
       "<tr>\n",
       "  <th>Dep. Variable:</th>    <td>GDP per capita (current US$) [NY.GDP.PCAP.CD]</td> <th>  R-squared:         </th> <td>   0.831</td> \n",
       "</tr>\n",
       "<tr>\n",
       "  <th>Model:</th>                                 <td>OLS</td>                      <th>  Adj. R-squared:    </th> <td>   0.816</td> \n",
       "</tr>\n",
       "<tr>\n",
       "  <th>Method:</th>                           <td>Least Squares</td>                 <th>  F-statistic:       </th> <td>   57.35</td> \n",
       "</tr>\n",
       "<tr>\n",
       "  <th>Date:</th>                           <td>Sat, 08 Sep 2018</td>                <th>  Prob (F-statistic):</th> <td>4.37e-120</td>\n",
       "</tr>\n",
       "<tr>\n",
       "  <th>Time:</th>                               <td>11:21:33</td>                    <th>  Log-Likelihood:    </th> <td> -4091.1</td> \n",
       "</tr>\n",
       "<tr>\n",
       "  <th>No. Observations:</th>                    <td>   394</td>                     <th>  AIC:               </th> <td>   8246.</td> \n",
       "</tr>\n",
       "<tr>\n",
       "  <th>Df Residuals:</th>                        <td>   362</td>                     <th>  BIC:               </th> <td>   8373.</td> \n",
       "</tr>\n",
       "<tr>\n",
       "  <th>Df Model:</th>                            <td>    31</td>                     <th>                     </th>     <td> </td>    \n",
       "</tr>\n",
       "<tr>\n",
       "  <th>Covariance Type:</th>                    <td>nonrobust</td>                   <th>                     </th>     <td> </td>    \n",
       "</tr>\n",
       "</table>\n",
       "<table class=\"simpletable\">\n",
       "<tr>\n",
       "                                        <td></td>                                           <th>coef</th>     <th>std err</th>      <th>t</th>      <th>P>|t|</th>  <th>[0.025</th>    <th>0.975]</th>  \n",
       "</tr>\n",
       "<tr>\n",
       "  <th>Population, total [SP.POP.TOTL]</th>                                               <td>   -0.0002</td> <td> 3.69e-05</td> <td>   -5.479</td> <td> 0.000</td> <td>   -0.000</td> <td>   -0.000</td>\n",
       "</tr>\n",
       "<tr>\n",
       "  <th>Population growth (annual %) [SP.POP.GROW]</th>                                    <td>-2638.7660</td> <td>  735.905</td> <td>   -3.586</td> <td> 0.000</td> <td>-4085.951</td> <td>-1191.581</td>\n",
       "</tr>\n",
       "<tr>\n",
       "  <th>Surface area (sq. km) [AG.SRF.TOTL.K2]</th>                                        <td>   -0.0035</td> <td>    0.001</td> <td>   -4.346</td> <td> 0.000</td> <td>   -0.005</td> <td>   -0.002</td>\n",
       "</tr>\n",
       "<tr>\n",
       "  <th>Life expectancy at birth, total (years) [SP.DYN.LE00.IN]</th>                      <td> -286.4583</td> <td>  226.713</td> <td>   -1.264</td> <td> 0.207</td> <td> -732.298</td> <td>  159.382</td>\n",
       "</tr>\n",
       "<tr>\n",
       "  <th>Fertility rate, total (births per woman) [SP.DYN.TFRT.IN]</th>                     <td>-3290.0963</td> <td> 1948.701</td> <td>   -1.688</td> <td> 0.092</td> <td>-7122.292</td> <td>  542.099</td>\n",
       "</tr>\n",
       "<tr>\n",
       "  <th>Adolescent fertility rate (births per 1,000 women ages 15-19) [SP.ADO.TFRT]</th>   <td>  494.2092</td> <td>  119.184</td> <td>    4.147</td> <td> 0.000</td> <td>  259.829</td> <td>  728.590</td>\n",
       "</tr>\n",
       "<tr>\n",
       "  <th>Mortality rate, under-5 (per 1,000 live births) [SH.DYN.MORT]</th>                 <td>-4759.1107</td> <td>  376.021</td> <td>  -12.657</td> <td> 0.000</td> <td>-5498.570</td> <td>-4019.652</td>\n",
       "</tr>\n",
       "<tr>\n",
       "  <th>Immunization, measles (% of children ages 12-23 months) [SH.IMM.MEAS]</th>         <td> -263.2704</td> <td>  102.262</td> <td>   -2.574</td> <td> 0.010</td> <td> -464.373</td> <td>  -62.168</td>\n",
       "</tr>\n",
       "<tr>\n",
       "  <th>Forest area (sq. km) [AG.LND.FRST.K2]</th>                                         <td>    0.0154</td> <td>    0.003</td> <td>    5.977</td> <td> 0.000</td> <td>    0.010</td> <td>    0.020</td>\n",
       "</tr>\n",
       "<tr>\n",
       "  <th>CO2 emissions (metric tons per capita) [EN.ATM.CO2E.PC]</th>                       <td>  126.5936</td> <td>  212.039</td> <td>    0.597</td> <td> 0.551</td> <td> -290.390</td> <td>  543.577</td>\n",
       "</tr>\n",
       "<tr>\n",
       "  <th>GDP growth (annual %) [NY.GDP.MKTP.KD.ZG]</th>                                     <td> -346.9604</td> <td>  181.912</td> <td>   -1.907</td> <td> 0.057</td> <td> -704.697</td> <td>   10.777</td>\n",
       "</tr>\n",
       "<tr>\n",
       "  <th>Inflation, GDP deflator (annual %) [NY.GDP.DEFL.KD.ZG]</th>                        <td> -119.2099</td> <td>  175.315</td> <td>   -0.680</td> <td> 0.497</td> <td> -463.974</td> <td>  225.555</td>\n",
       "</tr>\n",
       "<tr>\n",
       "  <th>Agriculture, forestry, and fishing, value added (% of GDP) [NV.AGR.TOTL.ZS]</th>   <td>-3200.5542</td> <td>  394.147</td> <td>   -8.120</td> <td> 0.000</td> <td>-3975.659</td> <td>-2425.450</td>\n",
       "</tr>\n",
       "<tr>\n",
       "  <th>Industry (including construction), value added (% of GDP) [NV.IND.TOTL.ZS]</th>    <td>-1809.7676</td> <td>  130.202</td> <td>  -13.900</td> <td> 0.000</td> <td>-2065.814</td> <td>-1553.721</td>\n",
       "</tr>\n",
       "<tr>\n",
       "  <th>Exports of goods and services (% of GDP) [NE.EXP.GNFS.ZS]</th>                     <td> 2009.6594</td> <td>  123.242</td> <td>   16.307</td> <td> 0.000</td> <td> 1767.300</td> <td> 2252.019</td>\n",
       "</tr>\n",
       "<tr>\n",
       "  <th>Imports of goods and services (% of GDP) [NE.IMP.GNFS.ZS]</th>                     <td>-2244.8771</td> <td>  143.841</td> <td>  -15.607</td> <td> 0.000</td> <td>-2527.745</td> <td>-1962.009</td>\n",
       "</tr>\n",
       "<tr>\n",
       "  <th>Gross capital formation (% of GDP) [NE.GDI.TOTL.ZS]</th>                           <td> 2830.3912</td> <td>  191.166</td> <td>   14.806</td> <td> 0.000</td> <td> 2454.455</td> <td> 3206.327</td>\n",
       "</tr>\n",
       "<tr>\n",
       "  <th>Mobile cellular subscriptions (per 100 people) [IT.CEL.SETS.P2]</th>               <td>  144.0749</td> <td>   24.794</td> <td>    5.811</td> <td> 0.000</td> <td>   95.317</td> <td>  192.833</td>\n",
       "</tr>\n",
       "<tr>\n",
       "  <th>Merchandise trade (% of GDP) [TG.VAL.TOTL.GD.ZS]</th>                              <td>  -70.8719</td> <td>   23.554</td> <td>   -3.009</td> <td> 0.003</td> <td> -117.192</td> <td>  -24.552</td>\n",
       "</tr>\n",
       "<tr>\n",
       "  <th>Net barter terms of trade index (2000 = 100) [TT.PRI.MRCH.XD.WD]</th>              <td>   59.7256</td> <td>    9.932</td> <td>    6.014</td> <td> 0.000</td> <td>   40.194</td> <td>   79.257</td>\n",
       "</tr>\n",
       "<tr>\n",
       "  <th>Personal remittances, paid (current US$) [BM.TRF.PWKR.CD.DT]</th>                  <td> 2.778e-07</td> <td> 1.37e-07</td> <td>    2.024</td> <td> 0.044</td> <td> 7.86e-09</td> <td> 5.48e-07</td>\n",
       "</tr>\n",
       "<tr>\n",
       "  <th>Foreign direct investment, net inflows (BoP, current US$) [BX.KLT.DINV.CD.WD]</th> <td> 6.293e-09</td> <td> 8.01e-09</td> <td>    0.786</td> <td> 0.432</td> <td>-9.45e-09</td> <td>  2.2e-08</td>\n",
       "</tr>\n",
       "<tr>\n",
       "  <th>Foreign direct investment, net (BoP, current US$) [BN.KLT.DINV.CD]</th>            <td> 1.578e-08</td> <td> 1.21e-08</td> <td>    1.305</td> <td> 0.193</td> <td>   -8e-09</td> <td> 3.96e-08</td>\n",
       "</tr>\n",
       "<tr>\n",
       "  <th>Inflation, consumer prices (annual %) [FP.CPI.TOTL.ZG]</th>                        <td> -165.8146</td> <td>  351.795</td> <td>   -0.471</td> <td> 0.638</td> <td> -857.634</td> <td>  526.004</td>\n",
       "</tr>\n",
       "<tr>\n",
       "  <th>Oil rents (% of GDP) [NY.GDP.PETR.RT.ZS]</th>                                      <td>  961.0404</td> <td>  143.683</td> <td>    6.689</td> <td> 0.000</td> <td>  678.481</td> <td> 1243.599</td>\n",
       "</tr>\n",
       "<tr>\n",
       "  <th>Adjusted savings: education expenditure (% of GNI) [NY.ADJ.AEDU.GN.ZS]</th>        <td>  637.6294</td> <td>  703.964</td> <td>    0.906</td> <td> 0.366</td> <td> -746.743</td> <td> 2022.001</td>\n",
       "</tr>\n",
       "<tr>\n",
       "  <th>Adjusted savings: education expenditure (current US$) [NY.ADJ.AEDU.CD]</th>        <td> 6.764e-08</td> <td> 2.13e-08</td> <td>    3.175</td> <td> 0.002</td> <td> 2.57e-08</td> <td>  1.1e-07</td>\n",
       "</tr>\n",
       "<tr>\n",
       "  <th>Compulsory education, duration (years) [SE.COM.DURS]</th>                          <td> 1366.3904</td> <td>  453.405</td> <td>    3.014</td> <td> 0.003</td> <td>  474.751</td> <td> 2258.030</td>\n",
       "</tr>\n",
       "<tr>\n",
       "  <th>Preprimary education, duration (years) [SE.PRE.DURS]</th>                          <td> -711.3718</td> <td> 1009.965</td> <td>   -0.704</td> <td> 0.482</td> <td>-2697.506</td> <td> 1274.763</td>\n",
       "</tr>\n",
       "<tr>\n",
       "  <th>Primary education, duration (years) [SE.PRM.DURS]</th>                             <td> 6973.1096</td> <td> 1367.947</td> <td>    5.097</td> <td> 0.000</td> <td> 4282.988</td> <td> 9663.231</td>\n",
       "</tr>\n",
       "<tr>\n",
       "  <th>Secondary education, duration (years) [SE.SEC.DURS]</th>                           <td> 4493.0499</td> <td> 1193.478</td> <td>    3.765</td> <td> 0.000</td> <td> 2146.030</td> <td> 6840.070</td>\n",
       "</tr>\n",
       "<tr>\n",
       "  <th>Colony</th>                                                                        <td>-1690.1101</td> <td> 1953.981</td> <td>   -0.865</td> <td> 0.388</td> <td>-5532.689</td> <td> 2152.469</td>\n",
       "</tr>\n",
       "</table>\n",
       "<table class=\"simpletable\">\n",
       "<tr>\n",
       "  <th>Omnibus:</th>       <td> 6.597</td> <th>  Durbin-Watson:     </th> <td>   1.984</td>\n",
       "</tr>\n",
       "<tr>\n",
       "  <th>Prob(Omnibus):</th> <td> 0.037</td> <th>  Jarque-Bera (JB):  </th> <td>   6.677</td>\n",
       "</tr>\n",
       "<tr>\n",
       "  <th>Skew:</th>          <td> 0.250</td> <th>  Prob(JB):          </th> <td>  0.0355</td>\n",
       "</tr>\n",
       "<tr>\n",
       "  <th>Kurtosis:</th>      <td> 3.395</td> <th>  Cond. No.          </th> <td>8.92e+11</td>\n",
       "</tr>\n",
       "</table>"
      ],
      "text/plain": [
       "<class 'statsmodels.iolib.summary.Summary'>\n",
       "\"\"\"\n",
       "                                          OLS Regression Results                                         \n",
       "=========================================================================================================\n",
       "Dep. Variable:     GDP per capita (current US$) [NY.GDP.PCAP.CD]   R-squared:                       0.831\n",
       "Model:                                                       OLS   Adj. R-squared:                  0.816\n",
       "Method:                                            Least Squares   F-statistic:                     57.35\n",
       "Date:                                           Sat, 08 Sep 2018   Prob (F-statistic):          4.37e-120\n",
       "Time:                                                   11:21:33   Log-Likelihood:                -4091.1\n",
       "No. Observations:                                            394   AIC:                             8246.\n",
       "Df Residuals:                                                362   BIC:                             8373.\n",
       "Df Model:                                                     31                                         \n",
       "Covariance Type:                                       nonrobust                                         \n",
       "=================================================================================================================================================\n",
       "                                                                                    coef    std err          t      P>|t|      [0.025      0.975]\n",
       "-------------------------------------------------------------------------------------------------------------------------------------------------\n",
       "Population, total [SP.POP.TOTL]                                                  -0.0002   3.69e-05     -5.479      0.000      -0.000      -0.000\n",
       "Population growth (annual %) [SP.POP.GROW]                                    -2638.7660    735.905     -3.586      0.000   -4085.951   -1191.581\n",
       "Surface area (sq. km) [AG.SRF.TOTL.K2]                                           -0.0035      0.001     -4.346      0.000      -0.005      -0.002\n",
       "Life expectancy at birth, total (years) [SP.DYN.LE00.IN]                       -286.4583    226.713     -1.264      0.207    -732.298     159.382\n",
       "Fertility rate, total (births per woman) [SP.DYN.TFRT.IN]                     -3290.0963   1948.701     -1.688      0.092   -7122.292     542.099\n",
       "Adolescent fertility rate (births per 1,000 women ages 15-19) [SP.ADO.TFRT]     494.2092    119.184      4.147      0.000     259.829     728.590\n",
       "Mortality rate, under-5 (per 1,000 live births) [SH.DYN.MORT]                 -4759.1107    376.021    -12.657      0.000   -5498.570   -4019.652\n",
       "Immunization, measles (% of children ages 12-23 months) [SH.IMM.MEAS]          -263.2704    102.262     -2.574      0.010    -464.373     -62.168\n",
       "Forest area (sq. km) [AG.LND.FRST.K2]                                             0.0154      0.003      5.977      0.000       0.010       0.020\n",
       "CO2 emissions (metric tons per capita) [EN.ATM.CO2E.PC]                         126.5936    212.039      0.597      0.551    -290.390     543.577\n",
       "GDP growth (annual %) [NY.GDP.MKTP.KD.ZG]                                      -346.9604    181.912     -1.907      0.057    -704.697      10.777\n",
       "Inflation, GDP deflator (annual %) [NY.GDP.DEFL.KD.ZG]                         -119.2099    175.315     -0.680      0.497    -463.974     225.555\n",
       "Agriculture, forestry, and fishing, value added (% of GDP) [NV.AGR.TOTL.ZS]   -3200.5542    394.147     -8.120      0.000   -3975.659   -2425.450\n",
       "Industry (including construction), value added (% of GDP) [NV.IND.TOTL.ZS]    -1809.7676    130.202    -13.900      0.000   -2065.814   -1553.721\n",
       "Exports of goods and services (% of GDP) [NE.EXP.GNFS.ZS]                      2009.6594    123.242     16.307      0.000    1767.300    2252.019\n",
       "Imports of goods and services (% of GDP) [NE.IMP.GNFS.ZS]                     -2244.8771    143.841    -15.607      0.000   -2527.745   -1962.009\n",
       "Gross capital formation (% of GDP) [NE.GDI.TOTL.ZS]                            2830.3912    191.166     14.806      0.000    2454.455    3206.327\n",
       "Mobile cellular subscriptions (per 100 people) [IT.CEL.SETS.P2]                 144.0749     24.794      5.811      0.000      95.317     192.833\n",
       "Merchandise trade (% of GDP) [TG.VAL.TOTL.GD.ZS]                                -70.8719     23.554     -3.009      0.003    -117.192     -24.552\n",
       "Net barter terms of trade index (2000 = 100) [TT.PRI.MRCH.XD.WD]                 59.7256      9.932      6.014      0.000      40.194      79.257\n",
       "Personal remittances, paid (current US$) [BM.TRF.PWKR.CD.DT]                   2.778e-07   1.37e-07      2.024      0.044    7.86e-09    5.48e-07\n",
       "Foreign direct investment, net inflows (BoP, current US$) [BX.KLT.DINV.CD.WD]  6.293e-09   8.01e-09      0.786      0.432   -9.45e-09     2.2e-08\n",
       "Foreign direct investment, net (BoP, current US$) [BN.KLT.DINV.CD]             1.578e-08   1.21e-08      1.305      0.193      -8e-09    3.96e-08\n",
       "Inflation, consumer prices (annual %) [FP.CPI.TOTL.ZG]                         -165.8146    351.795     -0.471      0.638    -857.634     526.004\n",
       "Oil rents (% of GDP) [NY.GDP.PETR.RT.ZS]                                        961.0404    143.683      6.689      0.000     678.481    1243.599\n",
       "Adjusted savings: education expenditure (% of GNI) [NY.ADJ.AEDU.GN.ZS]          637.6294    703.964      0.906      0.366    -746.743    2022.001\n",
       "Adjusted savings: education expenditure (current US$) [NY.ADJ.AEDU.CD]         6.764e-08   2.13e-08      3.175      0.002    2.57e-08     1.1e-07\n",
       "Compulsory education, duration (years) [SE.COM.DURS]                           1366.3904    453.405      3.014      0.003     474.751    2258.030\n",
       "Preprimary education, duration (years) [SE.PRE.DURS]                           -711.3718   1009.965     -0.704      0.482   -2697.506    1274.763\n",
       "Primary education, duration (years) [SE.PRM.DURS]                              6973.1096   1367.947      5.097      0.000    4282.988    9663.231\n",
       "Secondary education, duration (years) [SE.SEC.DURS]                            4493.0499   1193.478      3.765      0.000    2146.030    6840.070\n",
       "Colony                                                                        -1690.1101   1953.981     -0.865      0.388   -5532.689    2152.469\n",
       "==============================================================================\n",
       "Omnibus:                        6.597   Durbin-Watson:                   1.984\n",
       "Prob(Omnibus):                  0.037   Jarque-Bera (JB):                6.677\n",
       "Skew:                           0.250   Prob(JB):                       0.0355\n",
       "Kurtosis:                       3.395   Cond. No.                     8.92e+11\n",
       "==============================================================================\n",
       "\n",
       "Warnings:\n",
       "[1] Standard Errors assume that the covariance matrix of the errors is correctly specified.\n",
       "[2] The condition number is large, 8.92e+11. This might indicate that there are\n",
       "strong multicollinearity or other numerical problems.\n",
       "\"\"\""
      ]
     },
     "execution_count": 95,
     "metadata": {},
     "output_type": "execute_result"
    }
   ],
   "source": [
    "regression(y,X)"
   ]
  },
  {
   "cell_type": "code",
   "execution_count": 98,
   "metadata": {},
   "outputs": [
    {
     "data": {
      "text/plain": [
       "United States     15\n",
       "United Kingdom    15\n",
       "Australia         14\n",
       "New Zealand       12\n",
       "Cyprus            12\n",
       "Canada             8\n",
       "Malta              7\n",
       "Saudi Arabia       5\n",
       "Name: Country Name_x, dtype: int64"
      ]
     },
     "execution_count": 98,
     "metadata": {},
     "output_type": "execute_result"
    }
   ],
   "source": [
    "poor[poor['Colony'] == 1]['Country Name_x'].value_counts()"
   ]
  },
  {
   "cell_type": "code",
   "execution_count": null,
   "metadata": {},
   "outputs": [],
   "source": []
  }
 ],
 "metadata": {
  "kernelspec": {
   "display_name": "Python 3",
   "language": "python",
   "name": "python3"
  },
  "language_info": {
   "codemirror_mode": {
    "name": "ipython",
    "version": 3
   },
   "file_extension": ".py",
   "mimetype": "text/x-python",
   "name": "python",
   "nbconvert_exporter": "python",
   "pygments_lexer": "ipython3",
   "version": "3.6.6"
  }
 },
 "nbformat": 4,
 "nbformat_minor": 2
}
